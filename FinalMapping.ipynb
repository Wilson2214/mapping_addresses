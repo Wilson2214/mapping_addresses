{
 "cells": [
  {
   "cell_type": "code",
   "execution_count": null,
   "id": "09df231d",
   "metadata": {},
   "outputs": [],
   "source": [
    "from keplergl import KeplerGl\n",
    "import geopandas as gpd\n",
    "import pandas as pd\n",
    "import os\n",
    "import pickle "
   ]
  },
  {
   "cell_type": "code",
   "execution_count": null,
   "id": "f6150427",
   "metadata": {},
   "outputs": [],
   "source": [
    "cwd = os.getcwd()\n",
    "locations = pd.read_csv(cwd +'/data/final.csv')\n",
    "buildings = gpd.read_file(cwd +'/data/ms_hinds_buildings.json')\n",
    "\n",
    "\n",
    "# # Code to create initial config file\n",
    "# map_1 = KeplerGl()\n",
    "\n",
    "# map_1.add_data(data=buildings[['geometry']], name='buildings')\n",
    "# map_1.add_data(data=locations[['f_lat', 'f_lon', 'f_addr1']], name='orig_locations')\n",
    "# map_1.add_data(data=locations[['updated_lat', 'updated_lon', 'f_addr1']], name='new_locations')\n",
    "# map_1.add_data(data=locations[['f_lat', 'f_lon', 'updated_lat', 'updated_lon', 'f_addr1']], name='line_points')\n",
    "\n",
    "# # Center of Hinds County: 32.2648° N, 90.3748°\n",
    "# config = {\n",
    "#         'version': 'v1',\n",
    "#         'config': {\n",
    "#             'mapState': {\n",
    "#                 'latitude': 32.2648,\n",
    "#                 'longitude': -90.3748,\n",
    "#                 'zoom': 9\n",
    "#             }\n",
    "#         }\n",
    "#     }\n",
    "# map_1.config = config\n",
    "\n",
    "# map_1"
   ]
  },
  {
   "cell_type": "code",
   "execution_count": null,
   "id": "ef868f08",
   "metadata": {},
   "outputs": [],
   "source": [
    "# Save config for later usage\n",
    "config_file = map_1.config\n",
    "\n",
    "with open('keplergl_config.pkl', 'wb') as f:\n",
    "    pickle.dump(config_file, f)"
   ]
  },
  {
   "cell_type": "code",
   "execution_count": null,
   "id": "ccc65928",
   "metadata": {},
   "outputs": [],
   "source": [
    "# Save html with data and config\n",
    "map_1.save_to_html(data={\"buildings\": buildings[['geometry']], \n",
    "                       \"orig_locations\": locations[['f_lat', 'f_lon', 'f_addr1']], \n",
    "                      \"new_locations\": locations[['updated_lat', 'updated_lon', 'f_addr1']], \n",
    "                      \"line_points\": locations[['f_lat', 'f_lon', 'updated_lat', 'updated_lon', 'f_addr1']]}, config=config_file, file_name='newgeo_map.html')"
   ]
  },
  {
   "cell_type": "code",
   "execution_count": null,
   "id": "373a6242",
   "metadata": {},
   "outputs": [],
   "source": [
    "# Load previously created config file\n",
    "with open('keplergl_config.pkl', 'rb') as f:\n",
    "    new_config = pickle.load(f)"
   ]
  },
  {
   "cell_type": "code",
   "execution_count": null,
   "id": "e60c3f36",
   "metadata": {},
   "outputs": [],
   "source": [
    "# Load map with properly created config to repeat output each time\n",
    "\n",
    "map_2 = KeplerGl(data={\"buildings\": buildings[['geometry']], \n",
    "                       \"orig_locations\": locations[['f_lat', 'f_lon', 'f_addr1']], \n",
    "                      \"new_locations\": locations[['updated_lat', 'updated_lon', 'f_addr1']], \n",
    "                      \"line_points\": locations[['f_lat', 'f_lon', 'updated_lat', 'updated_lon', 'f_addr1']]}, config=new_config)\n",
    "map_2"
   ]
  }
 ],
 "metadata": {
  "kernelspec": {
   "display_name": "Python 3 (ipykernel)",
   "language": "python",
   "name": "python3"
  },
  "language_info": {
   "codemirror_mode": {
    "name": "ipython",
    "version": 3
   },
   "file_extension": ".py",
   "mimetype": "text/x-python",
   "name": "python",
   "nbconvert_exporter": "python",
   "pygments_lexer": "ipython3",
   "version": "3.11.0"
  }
 },
 "nbformat": 4,
 "nbformat_minor": 5
}
